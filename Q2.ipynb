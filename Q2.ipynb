{
 "cells": [
  {
   "cell_type": "code",
   "execution_count": 16,
   "metadata": {},
   "outputs": [],
   "source": [
    "import pandas as pd\n",
    "import numpy as np\n",
    "import matplotlib.pyplot as plt\n",
    "import math\n",
    "from scipy.integrate import quad\n",
    "import random"
   ]
  },
  {
   "cell_type": "code",
   "execution_count": 17,
   "metadata": {},
   "outputs": [],
   "source": [
    "X = pd.read_csv('entry_level_DS_salary.csv').to_numpy()\n",
    "Y = pd.read_csv('young_adult_income.csv').to_numpy()"
   ]
  },
  {
   "cell_type": "code",
   "execution_count": 18,
   "metadata": {},
   "outputs": [],
   "source": [
    "def RFF(X, m, std):\n",
    "    n = X.shape[0]\n",
    "    d = X.shape[1]\n",
    "    b_row = [random.uniform(0, 2 * math.pi) for _ in range(m)]\n",
    "    B = np.tile([b_row], (n, 1))\n",
    "    W_T = np.random.randn(d,m) / std\n",
    "    Φ = np.sqrt(2/m)*np.cos(X.dot(W_T) + B)\n",
    "    return Φ"
   ]
  },
  {
   "cell_type": "code",
   "execution_count": 19,
   "metadata": {},
   "outputs": [],
   "source": [
    "# Building big phi matrix which evaluates all x_i values with basis functions\n",
    "Φ_fx = RFF(X, 300, 1)\n",
    "Φ_fy = RFF(Y,300,1)"
   ]
  },
  {
   "cell_type": "code",
   "execution_count": 20,
   "metadata": {},
   "outputs": [],
   "source": [
    "# Grabbing the KME for fx and fy given the feature map\n",
    "KME_fx = np.sum(Φ_fx, axis=0) / 300\n",
    "KME_fy = np.sum(Φ_fy, axis=0) / 300"
   ]
  },
  {
   "cell_type": "code",
   "execution_count": null,
   "metadata": {},
   "outputs": [],
   "source": [
    "# Plug each point in X into both fx,fy\n",
    "\n"
   ]
  },
  {
   "cell_type": "code",
   "execution_count": null,
   "metadata": {},
   "outputs": [],
   "source": [
    "# Plug each point in Y into both fx,fy\n",
    "\n",
    "\n"
   ]
  },
  {
   "cell_type": "code",
   "execution_count": null,
   "metadata": {},
   "outputs": [],
   "source": [
    "# (c) Keep plugging different values into fx(v) and fy(v), at what v value would the two probability become approximately equivalent, fx(v) ≈ fy(v)?\n",
    "#(d) Plot out the histogram for both X and Y and draw a vertical line at v, does this point make sense?"
   ]
  }
 ],
 "metadata": {
  "kernelspec": {
   "display_name": "base",
   "language": "python",
   "name": "python3"
  },
  "language_info": {
   "codemirror_mode": {
    "name": "ipython",
    "version": 3
   },
   "file_extension": ".py",
   "mimetype": "text/x-python",
   "name": "python",
   "nbconvert_exporter": "python",
   "pygments_lexer": "ipython3",
   "version": "3.11.7"
  }
 },
 "nbformat": 4,
 "nbformat_minor": 2
}
