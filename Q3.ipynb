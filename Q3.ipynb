{
 "cells": [
  {
   "cell_type": "code",
   "execution_count": 1,
   "metadata": {},
   "outputs": [],
   "source": [
    "import numpy as np\n",
    "import pandas as pd\n",
    "from matplotlib import pyplot as plt\n",
    "import math\n",
    "from sklearn.model_selection import train_test_split\n",
    "from sklearn.metrics import mean_squared_error\n",
    "\n",
    "# mse sklearn function"
   ]
  },
  {
   "cell_type": "code",
   "execution_count": 2,
   "metadata": {},
   "outputs": [],
   "source": [
    "X = pd.read_csv('lung_cancer_data.csv').to_numpy()\n",
    "y = pd.read_csv('lung_cancer_label.csv').to_numpy()"
   ]
  },
  {
   "cell_type": "code",
   "execution_count": 3,
   "metadata": {},
   "outputs": [],
   "source": [
    "# Split data into train validation and test\n",
    "[X_train, X_rest, y_train, y_rest] = train_test_split(X, y, test_size=0.2, random_state=0)\n",
    "[X_validation, X_test, y_validation, y_test] = train_test_split(X_rest, y_rest, test_size=0.2, random_state=0)"
   ]
  },
  {
   "cell_type": "markdown",
   "metadata": {},
   "source": [
    "## Kernel Regression"
   ]
  },
  {
   "cell_type": "code",
   "execution_count": 4,
   "metadata": {},
   "outputs": [],
   "source": [
    "# Forming Kernel Matrix using Gaussian Kernel\n",
    "def k(x_i, x_j, γ):\n",
    "    norm_sq = (np.linalg.norm(x_i - x_j))**2\n",
    "    kernel = math.e ** (-γ * norm_sq)\n",
    "    return kernel\n",
    "\n",
    "kernel_matrix_train = np.array([])\n",
    "for x_i in X_train:\n",
    "    row = []\n",
    "    for x_j in X_train:\n",
    "        k_x_x = k(x_i , x_j, 0.005)\n",
    "        row.append(k_x_x)\n",
    "    if len(kernel_matrix_train) == 0:\n",
    "        kernel_matrix_train = np.array([row])\n",
    "    else:\n",
    "        kernel_matrix_train = np.vstack((kernel_matrix_train, row))"
   ]
  },
  {
   "cell_type": "code",
   "execution_count": 6,
   "metadata": {},
   "outputs": [],
   "source": [
    "alpha = np.linalg.inv(np.dot(kernel_matrix_train.T,kernel_matrix_train)).dot(kernel_matrix_train.T.dot(y_train))"
   ]
  },
  {
   "cell_type": "code",
   "execution_count": 16,
   "metadata": {},
   "outputs": [],
   "source": [
    "# X_validation Kernel Matrix for predictions\n",
    "\n",
    "kernel_matrix_validation = np.array([])\n",
    "for x_i in X_validation:\n",
    "    row = []\n",
    "    for x_j in X_train:\n",
    "        k_x_x = k(x_i , x_j, 0.005)\n",
    "        row.append(k_x_x)\n",
    "    if len(kernel_matrix_validation) == 0:\n",
    "        kernel_matrix_validation = np.array([row])\n",
    "    else:\n",
    "        kernel_matrix_validation = np.vstack((kernel_matrix_validation, row))\n",
    "\n",
    "\n",
    "# X_test Kernel Matrix for predictions\n",
    "\n",
    "kernel_matrix_test = np.array([])\n",
    "for x_i in X_test:\n",
    "    row = []\n",
    "    for x_j in X_train:\n",
    "        k_x_x = k(x_i , x_j, 0.005)\n",
    "        row.append(k_x_x)\n",
    "    if len(kernel_matrix_test) == 0:\n",
    "        kernel_matrix_test = np.array([row])\n",
    "    else:\n",
    "        kernel_matrix_test = np.vstack((kernel_matrix_test, row))"
   ]
  },
  {
   "cell_type": "code",
   "execution_count": 17,
   "metadata": {},
   "outputs": [],
   "source": [
    "# Dot with k matrix for predictions\n",
    "y_pred_train = np.dot(kernel_matrix_train, alpha)\n",
    "y_pred_validation = np.dot(kernel_matrix_validation, alpha)\n",
    "y_pred_test = np.dot(kernel_matrix_test, alpha)\n"
   ]
  },
  {
   "cell_type": "code",
   "execution_count": 19,
   "metadata": {},
   "outputs": [
    {
     "name": "stdout",
     "output_type": "stream",
     "text": [
      "Final MSE on Training Data: 23.568607399454038\n",
      "Final MSE on Validation Data: 23.699433201757387\n",
      "Final MSE on Test Data: 24.390900358877346\n"
     ]
    }
   ],
   "source": [
    "mse_train = mean_squared_error(y_train, y_pred_train)\n",
    "mse_validation = mean_squared_error(y_validation, y_pred_validation)\n",
    "mse_test = mean_squared_error(y_test, y_pred_test)\n",
    "\n",
    "print(f\"Final MSE on Training Data: {mse_train}\")\n",
    "print(f\"Final MSE on Validation Data: {mse_validation}\")\n",
    "print(f\"Final MSE on Test Data: {mse_test}\")"
   ]
  },
  {
   "cell_type": "markdown",
   "metadata": {},
   "source": [
    "## Kernel Ridge Regression"
   ]
  },
  {
   "cell_type": "code",
   "execution_count": 28,
   "metadata": {},
   "outputs": [],
   "source": [
    "# X_validation Kernel Matrix for predictions\n",
    "\n",
    "kernel_matrix_validation = np.array([])\n",
    "for x_i in X_validation:\n",
    "    row = []\n",
    "    for x_j in X_validation:\n",
    "        k_x_x = k(x_i , x_j, 0.005)\n",
    "        row.append(k_x_x)\n",
    "    if len(kernel_matrix_validation) == 0:\n",
    "        kernel_matrix_validation = np.array([row])\n",
    "    else:\n",
    "        kernel_matrix_validation = np.vstack((kernel_matrix_validation, row))\n",
    "\n",
    "\n",
    "# X_test Kernel Matrix for predictions\n",
    "\n",
    "kernel_matrix_test = np.array([])\n",
    "for x_i in X_test:\n",
    "    row = []\n",
    "    for x_j in X_test:\n",
    "        k_x_x = k(x_i , x_j, 0.005)\n",
    "        row.append(k_x_x)\n",
    "    if len(kernel_matrix_test) == 0:\n",
    "        kernel_matrix_test = np.array([row])\n",
    "    else:\n",
    "        kernel_matrix_test = np.vstack((kernel_matrix_test, row))"
   ]
  },
  {
   "cell_type": "code",
   "execution_count": 31,
   "metadata": {},
   "outputs": [],
   "source": [
    "λ = 0.01\n",
    "kernel_ridge_y_pred_train = kernel_matrix_train.dot(np.linalg.inv(kernel_matrix_train + λ*np.eye(399))).dot(y_train)\n",
    "kernel_ridge_y_pred_test = kernel_matrix_test.dot(np.linalg.inv(kernel_matrix_test + λ*np.eye(20))).dot(y_test)\n",
    "kernel_ridge_y_pred_validation = kernel_matrix_validation.dot(np.linalg.inv(kernel_matrix_validation + λ*np.eye(80))).dot(y_validation)"
   ]
  },
  {
   "cell_type": "code",
   "execution_count": 32,
   "metadata": {},
   "outputs": [
    {
     "name": "stdout",
     "output_type": "stream",
     "text": [
      "Final MSE on Training Data: 0.0094983842413568\n",
      "Final MSE on Validation Data: 0.012422415275365981\n",
      "Final MSE on Test Data: 0.13438291755141912\n"
     ]
    }
   ],
   "source": [
    "mse_train = mean_squared_error(y_train, kernel_ridge_y_pred_train)\n",
    "mse_validation = mean_squared_error(y_validation, kernel_ridge_y_pred_validation)\n",
    "mse_test = mean_squared_error(y_test, kernel_ridge_y_pred_test)\n",
    "\n",
    "print(f\"Final MSE on Training Data: {mse_train}\")\n",
    "print(f\"Final MSE on Validation Data: {mse_validation}\")\n",
    "print(f\"Final MSE on Test Data: {mse_test}\")"
   ]
  }
 ],
 "metadata": {
  "kernelspec": {
   "display_name": "base",
   "language": "python",
   "name": "python3"
  },
  "language_info": {
   "codemirror_mode": {
    "name": "ipython",
    "version": 3
   },
   "file_extension": ".py",
   "mimetype": "text/x-python",
   "name": "python",
   "nbconvert_exporter": "python",
   "pygments_lexer": "ipython3",
   "version": "3.11.7"
  }
 },
 "nbformat": 4,
 "nbformat_minor": 2
}
