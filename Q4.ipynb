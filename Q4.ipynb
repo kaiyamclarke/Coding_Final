{
 "cells": [
  {
   "cell_type": "code",
   "execution_count": 1,
   "metadata": {},
   "outputs": [],
   "source": [
    "import pandas as pd\n",
    "import numpy as np\n",
    "import matplotlib.pyplot as plt\n",
    "from sklearn.preprocessing import MinMaxScaler\n",
    "from sklearn.preprocessing import PolynomialFeatures\n",
    "import math\n",
    "from sklearn.metrics.pairwise import rbf_kernel\n",
    "from numpy import genfromtxt"
   ]
  },
  {
   "cell_type": "code",
   "execution_count": 2,
   "metadata": {},
   "outputs": [],
   "source": [
    "X = pd.read_csv(\"life_expectancy_X.csv\").to_numpy()\n",
    "Y = pd.read_csv(\"life_expectancy_y.csv\").to_numpy()\n",
    "n = len(Y)\n",
    "Y = np.reshape(Y,(n,1))"
   ]
  },
  {
   "cell_type": "code",
   "execution_count": 3,
   "metadata": {},
   "outputs": [],
   "source": [
    "# Adding Bias to X\n",
    "X = np.hstack((X, np.zeros((X.shape[0], 1))))\n",
    "# Scale the data between 0 and 1\n",
    "scaler = MinMaxScaler()\n",
    "X = scaler.fit_transform(X)"
   ]
  },
  {
   "cell_type": "markdown",
   "metadata": {},
   "source": [
    "Use HSIC between each feature and label to identify the features that have the strongest dependency on the label."
   ]
  },
  {
   "cell_type": "code",
   "execution_count": 21,
   "metadata": {},
   "outputs": [],
   "source": [
    "def HSIC(X, Y):\n",
    "    γ = 1 \n",
    "    K_x = rbf_kernel(X, gamma=1)\n",
    "    K_y = rbf_kernel(X, gamma=1)\n",
    "    C = np.eye(n) - (1/n) * np.ones((n,n))\n",
    "    return np.trace(K_x.dot(C).dot(K_y).dot(C))/ (n*n)\n",
    "\n",
    "features = ['Exercise amount', \n",
    "            'Amount of supportive relationships' ,\n",
    "            'Number of siblings', \n",
    "            'Alcohol / Drugs / Smoking consumption', \n",
    "            'Height', 'Attractiveness' ,'work ethicsm', 'bias']\n",
    "\n",
    "HSIC_list = []\n",
    "for f in X.T:\n",
    "    f = np.reshape(f, (n,1))\n",
    "    HSIC_list.append(HSIC(f, Y))\n"
   ]
  },
  {
   "cell_type": "code",
   "execution_count": 23,
   "metadata": {},
   "outputs": [
    {
     "name": "stdout",
     "output_type": "stream",
     "text": [
      "   Exercise amount  Amount of supportive relationships  Number of siblings  \\\n",
      "0         0.015822                            0.017959            0.026307   \n",
      "\n",
      "   Alcohol / Drugs / Smoking consumption    Height  Attractiveness  \\\n",
      "0                               0.016401  0.016604        0.016032   \n",
      "\n",
      "   work ethicsm          bias  \n",
      "0      0.015122  7.476939e-31  \n"
     ]
    }
   ],
   "source": [
    "df = pd.DataFrame([HSIC_list], columns=features)\n",
    "# Display the DataFrame\n",
    "print(df)"
   ]
  },
  {
   "cell_type": "markdown",
   "metadata": {},
   "source": [
    "Use ISM to identify the most important features."
   ]
  },
  {
   "cell_type": "markdown",
   "metadata": {},
   "source": []
  }
 ],
 "metadata": {
  "kernelspec": {
   "display_name": "base",
   "language": "python",
   "name": "python3"
  },
  "language_info": {
   "codemirror_mode": {
    "name": "ipython",
    "version": 3
   },
   "file_extension": ".py",
   "mimetype": "text/x-python",
   "name": "python",
   "nbconvert_exporter": "python",
   "pygments_lexer": "ipython3",
   "version": "3.11.7"
  }
 },
 "nbformat": 4,
 "nbformat_minor": 2
}
