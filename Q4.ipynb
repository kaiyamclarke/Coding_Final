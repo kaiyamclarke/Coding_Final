{
 "cells": [
  {
   "cell_type": "code",
   "execution_count": 9,
   "metadata": {},
   "outputs": [],
   "source": [
    "import pandas as pd\n",
    "import numpy as np\n",
    "import matplotlib.pyplot as plt\n",
    "from sklearn.preprocessing import MinMaxScaler\n",
    "from sklearn.preprocessing import PolynomialFeatures\n",
    "import math\n",
    "from sklearn.metrics.pairwise import rbf_kernel\n",
    "from numpy import genfromtxt\n",
    "from sklearn.preprocessing import OneHotEncoder\n",
    "from numpy.linalg import eig\n",
    "from numpy.linalg import norm"
   ]
  },
  {
   "cell_type": "code",
   "execution_count": 10,
   "metadata": {},
   "outputs": [],
   "source": [
    "X = pd.read_csv(\"life_expectancy_X.csv\").to_numpy()\n",
    "Y = pd.read_csv(\"life_expectancy_y.csv\").to_numpy()\n",
    "n = len(Y)\n",
    "Y = np.reshape(Y,(n,1))"
   ]
  },
  {
   "cell_type": "code",
   "execution_count": 11,
   "metadata": {},
   "outputs": [],
   "source": [
    "# Adding Bias to X\n",
    "X = np.hstack((X, np.zeros((X.shape[0], 1))))\n",
    "# Scale the data between 0 and 1\n",
    "scaler = MinMaxScaler()\n",
    "X = scaler.fit_transform(X)"
   ]
  },
  {
   "cell_type": "markdown",
   "metadata": {},
   "source": [
    "Use HSIC between each feature and label to identify the features that have the strongest dependency on the label."
   ]
  },
  {
   "cell_type": "code",
   "execution_count": 12,
   "metadata": {},
   "outputs": [],
   "source": [
    "def HSIC(X, Y):\n",
    "    γ = 1 \n",
    "    K_x = rbf_kernel(X, gamma=1)\n",
    "    K_y = rbf_kernel(X, gamma=1)\n",
    "    C = np.eye(n) - (1/n) * np.ones((n,n))\n",
    "    return np.trace(K_x.dot(C).dot(K_y).dot(C))/ (n*n)\n",
    "\n",
    "features = ['Exercise amount', \n",
    "            'Amount of supportive relationships' ,\n",
    "            'Number of siblings', \n",
    "            'Alcohol / Drugs / Smoking consumption', \n",
    "            'Height', 'Attractiveness' ,'work ethicsm', 'bias']\n",
    "\n",
    "HSIC_list = []\n",
    "for f in X.T:\n",
    "    f = np.reshape(f, (n,1))\n",
    "    HSIC_list.append(HSIC(f, Y))\n"
   ]
  },
  {
   "cell_type": "code",
   "execution_count": 13,
   "metadata": {},
   "outputs": [
    {
     "name": "stdout",
     "output_type": "stream",
     "text": [
      "   Exercise amount  Amount of supportive relationships  Number of siblings  \\\n",
      "0         0.015822                            0.017959            0.026307   \n",
      "\n",
      "   Alcohol / Drugs / Smoking consumption    Height  Attractiveness  \\\n",
      "0                               0.016401  0.016604        0.016032   \n",
      "\n",
      "   work ethicsm          bias  \n",
      "0      0.015122  7.476939e-31  \n"
     ]
    }
   ],
   "source": [
    "df = pd.DataFrame([HSIC_list], columns=features)\n",
    "# Display the DataFrame\n",
    "print(df)"
   ]
  },
  {
   "cell_type": "markdown",
   "metadata": {},
   "source": [
    "Use ISM to identify the most important features."
   ]
  },
  {
   "cell_type": "code",
   "execution_count": 24,
   "metadata": {},
   "outputs": [],
   "source": [
    "γ = 1\n",
    "X = genfromtxt(\"life_expectancy_X.csv\", delimiter=',')\n",
    "y = genfromtxt(\"life_expectancy_y.csv\")\n",
    "Y = np.reshape(y, (len(y), 1))\n",
    "# Scale the data between 0 and 1\n",
    "scaler = MinMaxScaler()\n",
    "X = scaler.fit_transform(X)"
   ]
  },
  {
   "cell_type": "code",
   "execution_count": 32,
   "metadata": {},
   "outputs": [
    {
     "name": "stderr",
     "output_type": "stream",
     "text": [
      "/opt/anaconda3/lib/python3.11/site-packages/sklearn/preprocessing/_encoders.py:868: FutureWarning: `sparse` was renamed to `sparse_output` in version 1.2 and will be removed in 1.4. `sparse_output` is ignored unless you leave `sparse` to its default value.\n",
      "  warnings.warn(\n"
     ]
    }
   ],
   "source": [
    "Y_0 = OneHotEncoder(categories='auto', sparse=False).fit_transform(Y)\n",
    "K_r = Y_0.dot(np.transpose(Y_0))\n",
    "R = np.transpose((np.transpose(K_r - np.mean(K_r, axis=0))) - np.mean(np.transpose((K_r - np.mean(K_r, axis=0))), axis=0))\n",
    "D = np.diag(np.sum(R, axis=0))\n",
    "L = D - R\n",
    "Φ = -X.T.dot(L).dot(X) \n",
    "eigen_val, W_1 = eig(Φ)\n",
    "W_1 = W_1[:, ::-1][:, 0:Φ.shape[0]]\n",
    "eigen_val = np.flip(eigen_val)[0:Φ.shape[0]]\n",
    "Σ = np.diag(eigen_val)"
   ]
  },
  {
   "cell_type": "code",
   "execution_count": 27,
   "metadata": {},
   "outputs": [],
   "source": [
    "eigen_val_0 = np.array([1,1,1,1,1,1,1])\n",
    "while True:\n",
    "    K_x = rbf_kernel(X.dot(W_1), gamma = γ)\n",
    "    Ψ =  R * K_x\n",
    "    D = np.diag(np.sum(Ψ,axis=0))\n",
    "    L = D - Ψ \n",
    "    Φ = -X.T.dot(L).dot(X)\n",
    "    eigen_val, W_1 = eig(Φ)\n",
    "    W_1 = W_1[:, ::-1][:, 0:Φ.shape[0]]\n",
    "    eigen_val = np.flip(eigen_val)[0:Φ.shape[0]]\n",
    "    Σ = np.diag(eigen_val)\n",
    "    if norm(eigen_val_0 - eigen_val) < 0.01: break\n",
    "    eigen_val_0 = eigen_val"
   ]
  },
  {
   "cell_type": "code",
   "execution_count": 33,
   "metadata": {},
   "outputs": [
    {
     "name": "stdout",
     "output_type": "stream",
     "text": [
      "[['-0.249' '0.449' '0.236' '0.131' '-0.166' '0.781' '0.162'\n",
      "  'Exercise amount']\n",
      " ['-0.038' '-0.479' '-0.395' '-0.584' '-0.302' '0.423' '-0.031'\n",
      "  'Amount of supportive relationships']\n",
      " ['0.103' '-0.179' '-0.027' '0.068' '-0.032' '-0.076' '0.972'\n",
      "  'Number of siblings']\n",
      " ['-0.195' '0.49' '-0.706' '0.11' '-0.387' '-0.242' '0.052'\n",
      "  'Alcohol / Drugs / Smoking consumption']\n",
      " ['-0.666' '0.145' '0.338' '-0.542' '-0.025' '-0.337' '0.117' 'Height']\n",
      " ['0.62' '0.329' '0.322' '-0.365' '-0.502' '-0.135' '0.002'\n",
      "  'Attractiveness']\n",
      " ['0.245' '0.409' '-0.267' '-0.445' '0.691' '0.123' '0.106'\n",
      "  'work ethicsm']]\n"
     ]
    }
   ],
   "source": [
    "name = np.array([['Exercise amount'], \n",
    "            ['Amount of supportive relationships'] ,\n",
    "            ['Number of siblings'], \n",
    "            ['Alcohol / Drugs / Smoking consumption'], \n",
    "            ['Height'], ['Attractiveness'] ,['work ethic']])\n",
    "\n",
    "eigen_val, W_1 = eig(Φ)\n",
    "W_1 = W_1[:, ::-1][:, 0:Φ.shape[0]]\n",
    "eigen_val = np.flip(eigen_val)[0:Φ.shape[0]]\n",
    "Σ = np.diag(eigen_val)\n",
    "W_1 = np.round(W_1,3)\n",
    "print(np.hstack((W_1, name)))\n"
   ]
  },
  {
   "cell_type": "markdown",
   "metadata": {},
   "source": [
    "What is the difference between the results from ISM and measuring via HSIC feature by feature?"
   ]
  },
  {
   "cell_type": "markdown",
   "metadata": {},
   "source": []
  }
 ],
 "metadata": {
  "kernelspec": {
   "display_name": "base",
   "language": "python",
   "name": "python3"
  },
  "language_info": {
   "codemirror_mode": {
    "name": "ipython",
    "version": 3
   },
   "file_extension": ".py",
   "mimetype": "text/x-python",
   "name": "python",
   "nbconvert_exporter": "python",
   "pygments_lexer": "ipython3",
   "version": "3.11.7"
  }
 },
 "nbformat": 4,
 "nbformat_minor": 2
}
